{
 "cells": [
  {
   "cell_type": "code",
   "execution_count": 95,
   "metadata": {},
   "outputs": [],
   "source": [
    "import os\n",
    "import csv\n",
    "import numpy as np\n",
    "from numpy import genfromtxt\n",
    "import pandas as pd\n",
    "import time"
   ]
  },
  {
   "cell_type": "code",
   "execution_count": 2,
   "metadata": {},
   "outputs": [],
   "source": [
    "def read_subs():\n",
    "    data_path='Data/';\n",
    "    data = os.listdir(data_path);\n",
    "    for files in data:\n",
    "        with open(os.path.join(data_path,files),newline='',encoding=\"utf-8\") as f:\n",
    "\n",
    "            rows=csv.reader(f, delimiter=',');\n",
    "            if(files=='subs.csv'):\n",
    "                sub=[];\n",
    "                for row in rows:\n",
    "                    sub.append([row[0],list(map(int, row[1:]))]);\n",
    "    return sub;"
   ]
  },
  {
   "cell_type": "code",
   "execution_count": 15,
   "metadata": {},
   "outputs": [],
   "source": [
    "def read_key():\n",
    "    key=pd.read_csv('Data/key_2.csv', sep=',',header=None,encoding=\"utf-8\")\n",
    "    return key;"
   ]
  },
  {
   "cell_type": "code",
   "execution_count": 4,
   "metadata": {},
   "outputs": [],
   "source": [
    "subs=read_subs();"
   ]
  },
  {
   "cell_type": "code",
   "execution_count": 16,
   "metadata": {},
   "outputs": [],
   "source": [
    "key=read_key();"
   ]
  },
  {
   "cell_type": "code",
   "execution_count": null,
   "metadata": {},
   "outputs": [
    {
     "name": "stdout",
     "output_type": "stream",
     "text": [
      "0\n",
      "--- 0.3720426559448242 seconds ---\n",
      "100\n",
      "--- 20.54718327522278 seconds ---\n",
      "200\n",
      "--- 42.23625040054321 seconds ---\n",
      "300\n",
      "--- 62.62703323364258 seconds ---\n"
     ]
    }
   ],
   "source": [
    "num_prediction=62;\n",
    "Id=[];\n",
    "Visit=[];\n",
    "start_time = time.time()\n",
    "for i in range(len(subs)):#\n",
    "    index=np.where(key.values[1:,0]==subs[i][0]+'_2017-09-13')[0][0];   \n",
    "    for j in range(num_prediction):\n",
    "        Id.append(key.values[index+j][1]);\n",
    "        Visit.append(subs[i][1][j]);\n",
    "    if(i%100==0):\n",
    "        print(i);\n",
    "        print(\"--- %s seconds ---\" % (time.time() - start_time));"
   ]
  },
  {
   "cell_type": "code",
   "execution_count": null,
   "metadata": {},
   "outputs": [],
   "source": [
    "with open('Data/submission.csv', 'w', newline='') as csvfile:\n",
    "    spamwriter = csv.writer(csvfile, delimiter=',');\n",
    "    spamwriter.writerow(['Id','Visits']);\n",
    "    for i in range(len(Visit)):\n",
    "        spamwriter.writerow([Id[i],Visit[i]]);"
   ]
  },
  {
   "cell_type": "code",
   "execution_count": null,
   "metadata": {},
   "outputs": [],
   "source": []
  }
 ],
 "metadata": {
  "kernelspec": {
   "display_name": "Python 3",
   "language": "python",
   "name": "python3"
  },
  "language_info": {
   "codemirror_mode": {
    "name": "ipython",
    "version": 3
   },
   "file_extension": ".py",
   "mimetype": "text/x-python",
   "name": "python",
   "nbconvert_exporter": "python",
   "pygments_lexer": "ipython3",
   "version": "3.6.7"
  }
 },
 "nbformat": 4,
 "nbformat_minor": 2
}
